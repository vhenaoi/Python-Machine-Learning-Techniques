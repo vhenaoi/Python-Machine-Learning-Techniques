{
  "nbformat": 4,
  "nbformat_minor": 0,
  "metadata": {
    "colab": {
      "provenance": []
    },
    "kernelspec": {
      "name": "python3",
      "display_name": "Python 3"
    },
    "language_info": {
      "name": "python"
    }
  },
  "cells": [
    {
      "cell_type": "code",
      "execution_count": 1,
      "metadata": {
        "id": "8Q3WwAP7vuvN",
        "colab": {
          "base_uri": "https://localhost:8080/"
        },
        "outputId": "c7dde97f-cd77-4966-e155-9ced5e4072d6"
      },
      "outputs": [
        {
          "output_type": "stream",
          "name": "stdout",
          "text": [
            "Mounted at /content/drive\n",
            "Cloning into 'AgeClassification_EEG'...\n",
            "remote: Enumerating objects: 17, done.\u001b[K\n",
            "remote: Counting objects: 100% (17/17), done.\u001b[K\n",
            "remote: Compressing objects: 100% (12/12), done.\u001b[K\n",
            "remote: Total 17 (delta 2), reused 0 (delta 0), pack-reused 0 (from 0)\u001b[K\n",
            "Receiving objects: 100% (17/17), 1.36 MiB | 10.64 MiB/s, done.\n",
            "Resolving deltas: 100% (2/2), done.\n",
            "The repository has been moved to Google Drive successfully.\n"
          ]
        }
      ],
      "source": [
        "from google.colab import drive\n",
        "import os\n",
        "import shutil\n",
        "\n",
        "# Mount Google Drive\n",
        "drive.mount('/content/drive')\n",
        "\n",
        "# Path to the target folder in Google Drive\n",
        "folder_path = '/content/drive/My Drive/4 Hands-on Seminars 2024'\n",
        "\n",
        "# Create the folder in Google Drive if it does not exist\n",
        "os.makedirs(folder_path, exist_ok=True)\n",
        "\n",
        "# Path to the cloned repository in Colab\n",
        "repo_name = 'AgeClassification_EEG'\n",
        "repo_path = f'/content/{repo_name}'\n",
        "\n",
        "# Check if the repository is already cloned\n",
        "if not os.path.isdir(repo_path):\n",
        "    # Clone the repository from GitHub if it is not already cloned\n",
        "    !git clone https://github.com/vhenaoi/Python-Machine-Learning-Techniques.git\n",
        "else:\n",
        "    print(\"The repository is already cloned.\")\n",
        "\n",
        "# Move the cloned repository to the new folder in Google Drive\n",
        "if os.path.isdir(repo_path):\n",
        "    # If the destination folder already exists and contains files, delete it\n",
        "    destination_path = f'/content/drive/My Drive/4 Hands-on Seminars 2024/{repo_name}'\n",
        "    if os.path.isdir(destination_path):\n",
        "        shutil.rmtree(destination_path)\n",
        "\n",
        "    # Move the cloned repository to the new folder in Google Drive\n",
        "    shutil.move(repo_path, destination_path)\n",
        "    print(\"The repository has been moved to Google Drive successfully.\")\n",
        "else:\n",
        "    print(\"The repository was not cloned correctly.\")\n"
      ]
    }
  ]
}